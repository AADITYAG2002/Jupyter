{
 "cells": [
  {
   "cell_type": "code",
   "execution_count": 5,
   "metadata": {},
   "outputs": [],
   "source": [
    "import numpy as np\n",
    "import pandas as pd\n",
    "from matplotlib import pyplot as plt\n",
    "data = pd.read_csv(\"../datasets/train.csv\")"
   ]
  },
  {
   "cell_type": "code",
   "execution_count": 2,
   "metadata": {},
   "outputs": [],
   "source": [
    "data = np.array(data)\n",
    "m,n = data.shape\n",
    "np.random.shuffle(data)\n",
    "\n",
    "data_dev = data[0:1000].T\n",
    "Y_dev = data_dev[0]\n",
    "X_dev = data_dev[1:n]\n",
    "X_dev = X_dev / 255.\n",
    "\n",
    "data_train = data[1000:m].T\n",
    "Y_train = data_train[0]\n",
    "X_train = data_train[1:n]\n",
    "X_train = X_train / 255."
   ]
  },
  {
   "cell_type": "code",
   "execution_count": 3,
   "metadata": {},
   "outputs": [],
   "source": [
    "def init_params():\n",
    "    W1 = np.random.rand(10, 784) - 0.5\n",
    "    b1 = np.random.rand(10, 1) - 0.5\n",
    "    W2 = np.random.rand(10, 10) - 0.5\n",
    "    b2 = np.random.rand(10, 1) - 0.5\n",
    "    return W1, b1, W2, b2\n",
    "\n",
    "def ReLU(Z):\n",
    "    return np.maximum(Z, 0)\n",
    "\n",
    "def softmax(Z):\n",
    "    A = np.exp(Z) / sum(np.exp(Z))\n",
    "    return A\n",
    "    \n",
    "def forward_prop(W1, b1, W2, b2, X):\n",
    "    A1 = ReLU(W1.dot(X) + b1)\n",
    "    A2 = softmax(W2.dot(A1) + b2)\n",
    "    return A1, A2\n",
    "\n",
    "def ReLU_deriv(Z):\n",
    "    return Z > 0\n",
    "\n",
    "def one_hot(Y):\n",
    "    one_hot_Y = np.zeros((Y.size, Y.max() + 1))\n",
    "    one_hot_Y[np.arange(Y.size), Y] = 1\n",
    "    one_hot_Y = one_hot_Y.T\n",
    "    return one_hot_Y\n",
    "\n",
    "def backward_prop(A1, A2, W1, W2, X, Y):\n",
    "    one_hot_Y = one_hot(Y)\n",
    "    dA2 = A2 - one_hot_Y\n",
    "    dW2 = 1 / m * dA2.dot(A1.T)\n",
    "    db2 = 1 / m * np.sum(dA2)\n",
    "    dA1 = W2.T.dot(dA2) * ReLU_deriv(A1)\n",
    "    dW1 = 1 / m * dA1.dot(X.T)\n",
    "    db1 = 1 / m * np.sum(dA1)\n",
    "    return dW1, db1, dW2, db2\n",
    "\n",
    "def update_params(W1, b1, W2, b2, dW1, db1, dW2, db2, alpha):\n",
    "    W1 = W1 - alpha * dW1\n",
    "    b1 = b1 - alpha * db1    \n",
    "    W2 = W2 - alpha * dW2  \n",
    "    b2 = b2 - alpha * db2    \n",
    "    return W1, b1, W2, b2"
   ]
  },
  {
   "cell_type": "code",
   "execution_count": 4,
   "metadata": {},
   "outputs": [],
   "source": [
    "def get_predictions(A2):\n",
    "    return np.argmax(A2, 0)\n",
    "\n",
    "def get_accuracy(predictions, Y):\n",
    "    print(predictions, Y)\n",
    "    return np.sum(predictions == Y) / Y.size\n",
    "\n",
    "def gradient_descent(X, Y, alpha, iterations):\n",
    "    W1, b1, W2, b2 = init_params()\n",
    "    for i in range(iterations):\n",
    "        A1, A2 = forward_prop(W1, b1, W2, b2, X)\n",
    "        dW1, db1, dW2, db2 = backward_prop( A1, A2, W1, W2, X, Y)\n",
    "        W1, b1, W2, b2 = update_params(W1, b1, W2, b2, dW1, db1, dW2, db2, alpha)\n",
    "        if i % 50 == 0:\n",
    "            print(\"Iteration: \", i)\n",
    "            predictions = get_predictions(A2)\n",
    "            print(get_accuracy(predictions, Y))\n",
    "    return W1, b1, W2, b2"
   ]
  },
  {
   "cell_type": "code",
   "execution_count": 5,
   "metadata": {},
   "outputs": [
    {
     "name": "stdout",
     "output_type": "stream",
     "text": [
      "Iteration:  0\n",
      "[9 9 5 ... 1 1 6] [2 7 7 ... 5 3 3]\n",
      "0.10882926829268293\n",
      "Iteration:  50\n",
      "[2 9 7 ... 7 8 6] [2 7 7 ... 5 3 3]\n",
      "0.4909268292682927\n",
      "Iteration:  100\n",
      "[2 9 7 ... 8 8 6] [2 7 7 ... 5 3 3]\n",
      "0.6603902439024391\n",
      "Iteration:  150\n",
      "[2 9 7 ... 5 8 8] [2 7 7 ... 5 3 3]\n",
      "0.7460487804878049\n",
      "Iteration:  200\n",
      "[2 9 7 ... 5 8 8] [2 7 7 ... 5 3 3]\n",
      "0.7866585365853659\n",
      "Iteration:  250\n",
      "[2 9 7 ... 5 8 8] [2 7 7 ... 5 3 3]\n",
      "0.8105609756097562\n"
     ]
    },
    {
     "ename": "KeyboardInterrupt",
     "evalue": "",
     "output_type": "error",
     "traceback": [
      "\u001b[1;31m---------------------------------------------------------------------------\u001b[0m",
      "\u001b[1;31mKeyboardInterrupt\u001b[0m                         Traceback (most recent call last)",
      "\u001b[1;32mc:\\Code saves\\jupyter\\neural.ipynb Cell 5\u001b[0m in \u001b[0;36m1\n\u001b[1;32m----> <a href='vscode-notebook-cell:/c%3A/Code%20saves/jupyter/neural.ipynb#W4sZmlsZQ%3D%3D?line=0'>1</a>\u001b[0m W1, b1, W2, b2 \u001b[39m=\u001b[39m gradient_descent(X_train, Y_train, \u001b[39m0.10\u001b[39;49m, \u001b[39m500\u001b[39;49m)\n",
      "\u001b[1;32mc:\\Code saves\\jupyter\\neural.ipynb Cell 5\u001b[0m in \u001b[0;36m1\n\u001b[0;32m     <a href='vscode-notebook-cell:/c%3A/Code%20saves/jupyter/neural.ipynb#W4sZmlsZQ%3D%3D?line=9'>10</a>\u001b[0m \u001b[39mfor\u001b[39;00m i \u001b[39min\u001b[39;00m \u001b[39mrange\u001b[39m(iterations):\n\u001b[0;32m     <a href='vscode-notebook-cell:/c%3A/Code%20saves/jupyter/neural.ipynb#W4sZmlsZQ%3D%3D?line=10'>11</a>\u001b[0m     A1, A2 \u001b[39m=\u001b[39m forward_prop(W1, b1, W2, b2, X)\n\u001b[1;32m---> <a href='vscode-notebook-cell:/c%3A/Code%20saves/jupyter/neural.ipynb#W4sZmlsZQ%3D%3D?line=11'>12</a>\u001b[0m     dW1, db1, dW2, db2 \u001b[39m=\u001b[39m backward_prop( A1, A2, W1, W2, X, Y)\n\u001b[0;32m     <a href='vscode-notebook-cell:/c%3A/Code%20saves/jupyter/neural.ipynb#W4sZmlsZQ%3D%3D?line=12'>13</a>\u001b[0m     W1, b1, W2, b2 \u001b[39m=\u001b[39m update_params(W1, b1, W2, b2, dW1, db1, dW2, db2, alpha)\n\u001b[0;32m     <a href='vscode-notebook-cell:/c%3A/Code%20saves/jupyter/neural.ipynb#W4sZmlsZQ%3D%3D?line=13'>14</a>\u001b[0m     \u001b[39mif\u001b[39;00m i \u001b[39m%\u001b[39m \u001b[39m50\u001b[39m \u001b[39m==\u001b[39m \u001b[39m0\u001b[39m:\n",
      "\u001b[1;32mc:\\Code saves\\jupyter\\neural.ipynb Cell 5\u001b[0m in \u001b[0;36m3\n\u001b[0;32m     <a href='vscode-notebook-cell:/c%3A/Code%20saves/jupyter/neural.ipynb#W4sZmlsZQ%3D%3D?line=29'>30</a>\u001b[0m one_hot_Y \u001b[39m=\u001b[39m one_hot(Y)\n\u001b[0;32m     <a href='vscode-notebook-cell:/c%3A/Code%20saves/jupyter/neural.ipynb#W4sZmlsZQ%3D%3D?line=30'>31</a>\u001b[0m dA2 \u001b[39m=\u001b[39m A2 \u001b[39m-\u001b[39m one_hot_Y\n\u001b[1;32m---> <a href='vscode-notebook-cell:/c%3A/Code%20saves/jupyter/neural.ipynb#W4sZmlsZQ%3D%3D?line=31'>32</a>\u001b[0m dW2 \u001b[39m=\u001b[39m \u001b[39m1\u001b[39m \u001b[39m/\u001b[39m m \u001b[39m*\u001b[39m dA2\u001b[39m.\u001b[39;49mdot(A1\u001b[39m.\u001b[39;49mT)\n\u001b[0;32m     <a href='vscode-notebook-cell:/c%3A/Code%20saves/jupyter/neural.ipynb#W4sZmlsZQ%3D%3D?line=32'>33</a>\u001b[0m db2 \u001b[39m=\u001b[39m \u001b[39m1\u001b[39m \u001b[39m/\u001b[39m m \u001b[39m*\u001b[39m np\u001b[39m.\u001b[39msum(dA2)\n\u001b[0;32m     <a href='vscode-notebook-cell:/c%3A/Code%20saves/jupyter/neural.ipynb#W4sZmlsZQ%3D%3D?line=33'>34</a>\u001b[0m dA1 \u001b[39m=\u001b[39m W2\u001b[39m.\u001b[39mT\u001b[39m.\u001b[39mdot(dA2) \u001b[39m*\u001b[39m ReLU_deriv(A1)\n",
      "\u001b[1;31mKeyboardInterrupt\u001b[0m: "
     ]
    }
   ],
   "source": [
    "W1, b1, W2, b2 = gradient_descent(X_train, Y_train, 0.10, 500)"
   ]
  },
  {
   "cell_type": "code",
   "execution_count": null,
   "metadata": {},
   "outputs": [],
   "source": [
    "def make_predictions(X, W1, b1, W2, b2):\n",
    "    _, A2 = forward_prop(W1, b1, W2, b2, X)\n",
    "    predictions = get_predictions(A2)\n",
    "    return predictions\n",
    "\n",
    "def test_prediction(index, W1, b1, W2, b2):\n",
    "    current_image = X_train[:, index, None]\n",
    "    prediction = make_predictions(X_train[:, index, None], W1, b1, W2, b2)\n",
    "    label = Y_train[index]\n",
    "    print(\"Prediction: \", prediction)\n",
    "    print(\"Label: \", label)\n",
    "    \n",
    "    current_image = current_image.reshape((28, 28)) * 255\n",
    "    plt.gray()\n",
    "    plt.imshow(current_image, interpolation='nearest')\n",
    "    plt.show()"
   ]
  },
  {
   "cell_type": "code",
   "execution_count": null,
   "metadata": {},
   "outputs": [
    {
     "name": "stdout",
     "output_type": "stream",
     "text": [
      "Prediction:  [3]\n",
      "Label:  3\n"
     ]
    },
    {
     "data": {
      "image/png": "[encoded data removed]",
      "text/plain": [
       "<Figure size 640x480 with 1 Axes>"
      ]
     },
     "metadata": {},
     "output_type": "display_data"
    }
   ],
   "source": [
    "test_prediction(np.random.randint(0,255), W1,b1,W2,b2)"
   ]
  }
 ],
 "metadata": {
  "kernelspec": {
   "display_name": "Python 3",
   "language": "python",
   "name": "python3"
  },
  "language_info": {
   "codemirror_mode": {
    "name": "ipython",
    "version": 3
   },
   "file_extension": ".py",
   "mimetype": "text/x-python",
   "name": "python",
   "nbconvert_exporter": "python",
   "pygments_lexer": "ipython3",
   "version": "3.10.10"
  },
  "orig_nbformat": 4,
  "vscode": {
   "interpreter": {
    "hash": "2efef94e58d84f501d25c367162023145a9424cd036259f4ae2b7403de909d4e"
   }
  }
 },
 "nbformat": 4,
 "nbformat_minor": 2
}
